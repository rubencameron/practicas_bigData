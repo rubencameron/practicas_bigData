{
 "cells": [
  {
   "cell_type": "markdown",
   "id": "a7e7339c",
   "metadata": {},
   "source": [
    "# Actividad 2\n",
    "\n",
    "### Recorrer un array e ir realizando una impresion con descripcion\n",
    "### correspondiente a cada elemento del mismo\n",
    "\n",
    "#### De acuerdo al valor de los elementos se determinara si los mismos son \n",
    "#### pares o impares, al mismo tiempo, y por indicaciones del ejercicio, la \n",
    "#### iteracion se vera interrumpida al llegar al elemento con valor \"20\"\n",
    "#### dada por finalizada asi la ejecucion"
   ]
  },
  {
   "cell_type": "code",
   "execution_count": 10,
   "id": "6f0e3f41",
   "metadata": {},
   "outputs": [
    {
     "name": "stdout",
     "output_type": "stream",
     "text": [
      "El numero 1 es impar\n",
      "El numero 3 es impar\n",
      "El numero 5 es impar\n",
      "El numero 6 es par\n",
      "El numero 8 es par\n",
      "El numero 9 es impar\n",
      "El numero 11 es impar\n",
      "El numero 13 es impar\n",
      "El numero 16 es par\n",
      "El numero 20 es par\n"
     ]
    }
   ],
   "source": [
    "enteros = [1, 3, 5, 6, 8, 9, 11, 13, 16, 20, 21, 24, 25]\n",
    "\n",
    "for i in enteros:\n",
    "    if i <= enteros[9]:\n",
    "        if i % 2 == 0:\n",
    "            print('El numero ' + str(i) + ' es par')\n",
    "        else:\n",
    "            print('El numero ' + str(i) + ' es impar')\n",
    "            \n",
    "   \n",
    "    \n",
    "         \n",
    "   \n",
    "        \n",
    "\n",
    "        \n",
    "        \n",
    "        \n",
    "    "
   ]
  },
  {
   "cell_type": "markdown",
   "id": "5ad7c8a6",
   "metadata": {},
   "source": [
    "#### Asi tambien, y a modo de practica personal. Realice un ejercicio similar\n",
    "#### con la diferencia de que la iteracion llega al mismo elemento de la posicion 9,\n",
    "#### lo ignora y continua con los siguientes elementos\n",
    "\n",
    "#### El resultado es el siguiente:"
   ]
  },
  {
   "cell_type": "code",
   "execution_count": 13,
   "id": "8fd0c049",
   "metadata": {},
   "outputs": [
    {
     "name": "stdout",
     "output_type": "stream",
     "text": [
      "El numero 1 es impar\n",
      "El numero 3 es impar\n",
      "El numero 5 es impar\n",
      "El numero 6 es par\n",
      "El numero 8 es par\n",
      "El numero 9 es impar\n",
      "El numero 11 es impar\n",
      "El numero 13 es impar\n",
      "El numero 16 es par\n",
      "El numero 21 es impar\n",
      "El numero 24 es par\n",
      "El numero 25 es impar\n"
     ]
    }
   ],
   "source": [
    "enteros = [1, 3, 5, 6, 8, 9, 11, 13, 16, 20, 21, 24, 25]\n",
    "\n",
    "for i in enteros:\n",
    "    if i < enteros[9]:\n",
    "        if i % 2 == 0:\n",
    "            print('El numero ' + str(i) + ' es par')\n",
    "        else:\n",
    "            print('El numero ' + str(i) + ' es impar')\n",
    "            \n",
    "    elif i == enteros[9]:\n",
    "        pass\n",
    "    \n",
    "    else:\n",
    "        if i % 2 == 0:\n",
    "            print('El numero ' + str(i) + ' es par')\n",
    "        else:\n",
    "            print('El numero ' + str(i) + ' es impar')"
   ]
  },
  {
   "cell_type": "code",
   "execution_count": null,
   "id": "6e250104",
   "metadata": {},
   "outputs": [],
   "source": []
  }
 ],
 "metadata": {
  "kernelspec": {
   "display_name": "Python 3 (ipykernel)",
   "language": "python",
   "name": "python3"
  },
  "language_info": {
   "codemirror_mode": {
    "name": "ipython",
    "version": 3
   },
   "file_extension": ".py",
   "mimetype": "text/x-python",
   "name": "python",
   "nbconvert_exporter": "python",
   "pygments_lexer": "ipython3",
   "version": "3.9.12"
  }
 },
 "nbformat": 4,
 "nbformat_minor": 5
}
