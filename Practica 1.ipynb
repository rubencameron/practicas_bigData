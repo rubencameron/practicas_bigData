{
 "cells": [
  {
   "cell_type": "markdown",
   "id": "fb20b7fa",
   "metadata": {},
   "source": [
    "# Primera practica de todo lo aprendido"
   ]
  },
  {
   "cell_type": "code",
   "execution_count": 2,
   "id": "06da3798",
   "metadata": {},
   "outputs": [],
   "source": [
    "import numpy as np"
   ]
  },
  {
   "cell_type": "code",
   "execution_count": 3,
   "id": "08c1293a",
   "metadata": {},
   "outputs": [
    {
     "data": {
      "text/plain": [
       "array(['todo', 'vos'], dtype='<U4')"
      ]
     },
     "execution_count": 3,
     "metadata": {},
     "output_type": "execute_result"
    }
   ],
   "source": [
    "a = np.array(['hola','que','tal','todo','bien','vos'])\n",
    "a[[3,5]]\n",
    "#Asi indexo arrays unidimensionales"
   ]
  },
  {
   "cell_type": "code",
   "execution_count": 4,
   "id": "5530bfc5",
   "metadata": {},
   "outputs": [
    {
     "name": "stdout",
     "output_type": "stream",
     "text": [
      "hola [2]\n"
     ]
    }
   ],
   "source": [
    "print(a[0],[2])"
   ]
  },
  {
   "cell_type": "code",
   "execution_count": 5,
   "id": "f918be9b",
   "metadata": {},
   "outputs": [
    {
     "data": {
      "text/plain": [
       "array([['hola', 'que', 'tal'],\n",
       "       ['todo', 'bien', 'vos']], dtype='<U4')"
      ]
     },
     "execution_count": 5,
     "metadata": {},
     "output_type": "execute_result"
    }
   ],
   "source": [
    "b = np.array([['hola','que','tal'],['todo','bien','vos']])\n",
    "b"
   ]
  },
  {
   "cell_type": "code",
   "execution_count": 6,
   "id": "0b65a076",
   "metadata": {},
   "outputs": [
    {
     "name": "stdout",
     "output_type": "stream",
     "text": [
      "['todo' 'vos']\n"
     ]
    }
   ],
   "source": [
    "print(b[1,[0,2]])"
   ]
  },
  {
   "cell_type": "code",
   "execution_count": 7,
   "id": "6bf9ef7d",
   "metadata": {},
   "outputs": [
    {
     "data": {
      "text/plain": [
       "array([['todo'],\n",
       "       ['vos']], dtype='<U4')"
      ]
     },
     "execution_count": 7,
     "metadata": {},
     "output_type": "execute_result"
    }
   ],
   "source": [
    "modificacion1 = b[1,[0,2]]\n",
    "modificacion1.reshape(2,1)"
   ]
  },
  {
   "cell_type": "code",
   "execution_count": 8,
   "id": "3056d652",
   "metadata": {},
   "outputs": [
    {
     "name": "stdout",
     "output_type": "stream",
     "text": [
      "['mod1' 'mod2']\n"
     ]
    }
   ],
   "source": [
    "modificacion1[0] = 'mod1'\n",
    "modificacion1[1] = 'mod2'\n",
    "print(modificacion1)\n"
   ]
  },
  {
   "cell_type": "code",
   "execution_count": 9,
   "id": "8065f42c",
   "metadata": {},
   "outputs": [
    {
     "name": "stdout",
     "output_type": "stream",
     "text": [
      "[['hola' 'que' 'tal']\n",
      " ['todo' 'bien' 'vos']]\n"
     ]
    }
   ],
   "source": [
    "print(b)"
   ]
  },
  {
   "cell_type": "code",
   "execution_count": 10,
   "id": "e8299687",
   "metadata": {},
   "outputs": [],
   "source": [
    "b[1,[0,2]] = modificacion1"
   ]
  },
  {
   "cell_type": "code",
   "execution_count": 11,
   "id": "5a6504cb",
   "metadata": {},
   "outputs": [
    {
     "data": {
      "text/plain": [
       "array([['hola', 'que', 'tal'],\n",
       "       ['mod1', 'bien', 'mod2']], dtype='<U4')"
      ]
     },
     "execution_count": 11,
     "metadata": {},
     "output_type": "execute_result"
    }
   ],
   "source": [
    "b"
   ]
  },
  {
   "cell_type": "markdown",
   "id": "191ecaa9",
   "metadata": {},
   "source": [
    "## Numeros random"
   ]
  },
  {
   "cell_type": "code",
   "execution_count": 12,
   "id": "c8079c87",
   "metadata": {},
   "outputs": [
    {
     "data": {
      "text/plain": [
       "array([[26, 18,  5, 20, 27, 13],\n",
       "       [ 2,  9, 20,  4, 23, 27],\n",
       "       [29, 10, 14, 31, 18,  2],\n",
       "       [23, 13,  2, 17,  1, 13],\n",
       "       [14, 31,  8, 20,  0, 19],\n",
       "       [35, 11, 10, 29, 16, 21]])"
      ]
     },
     "execution_count": 12,
     "metadata": {},
     "output_type": "execute_result"
    }
   ],
   "source": [
    "random = np.random.randint(36, size=(6,6))\n",
    "random"
   ]
  },
  {
   "cell_type": "code",
   "execution_count": 13,
   "id": "3adbccc6",
   "metadata": {},
   "outputs": [],
   "source": [
    "random[1,[5]] = 1000"
   ]
  },
  {
   "cell_type": "code",
   "execution_count": 14,
   "id": "b45abd20",
   "metadata": {},
   "outputs": [],
   "source": [
    "random = random.astype('float64')"
   ]
  },
  {
   "cell_type": "code",
   "execution_count": 15,
   "id": "2653906a",
   "metadata": {},
   "outputs": [
    {
     "data": {
      "text/plain": [
       "array([[  26.,   18.,    5.,   20.,   27.,   13.],\n",
       "       [   2.,    9.,   20.,    4.,   23., 1000.],\n",
       "       [  29.,   10.,   14.,   31.,   18.,    2.],\n",
       "       [  23.,   13.,    2.,   17.,    1.,   13.],\n",
       "       [  14.,   31.,    8.,   20.,    0.,   19.],\n",
       "       [  35.,   11.,   10.,   29.,   16.,   21.]])"
      ]
     },
     "execution_count": 15,
     "metadata": {},
     "output_type": "execute_result"
    }
   ],
   "source": [
    "random"
   ]
  },
  {
   "cell_type": "code",
   "execution_count": 16,
   "id": "bd9b8903",
   "metadata": {},
   "outputs": [
    {
     "name": "stdout",
     "output_type": "stream",
     "text": [
      "[[  26   18    5   20   27   13]\n",
      " [   2    9   20    4   23 1000]\n",
      " [  29   10   14   31   18    2]\n",
      " [  23   13    2   17    1   13]\n",
      " [  14   31    8   20    0   19]\n",
      " [  35   11   10   29   16   21]]\n"
     ]
    }
   ],
   "source": [
    "random = random.astype('int32')\n",
    "print(random)"
   ]
  },
  {
   "cell_type": "code",
   "execution_count": 17,
   "id": "a08bacda",
   "metadata": {
    "scrolled": true
   },
   "outputs": [
    {
     "name": "stdout",
     "output_type": "stream",
     "text": [
      "[[23 13  2]\n",
      " [14 31  8]\n",
      " [35 11 10]]\n"
     ]
    }
   ],
   "source": [
    "cortada = random[3:,:3]\n",
    "print(cortada)\n"
   ]
  },
  {
   "cell_type": "code",
   "execution_count": 18,
   "id": "bf88622c",
   "metadata": {},
   "outputs": [],
   "source": [
    "cortada = cortada+5"
   ]
  },
  {
   "cell_type": "code",
   "execution_count": 19,
   "id": "4c31cd2f",
   "metadata": {},
   "outputs": [
    {
     "name": "stdout",
     "output_type": "stream",
     "text": [
      "[[28 18  7]\n",
      " [19 36 13]\n",
      " [40 16 15]]\n"
     ]
    }
   ],
   "source": [
    "print(cortada)"
   ]
  },
  {
   "cell_type": "code",
   "execution_count": 20,
   "id": "39243fd0",
   "metadata": {},
   "outputs": [
    {
     "data": {
      "text/plain": [
       "array([[  26,   18,    5,   20,   27,   13],\n",
       "       [   2,    9,   20,    4,   23, 1000],\n",
       "       [  29,   10,   14,   31,   18,    2],\n",
       "       [  28,   18,    7,   17,    1,   13],\n",
       "       [  19,   36,   13,   20,    0,   19],\n",
       "       [  40,   16,   15,   29,   16,   21]], dtype=int32)"
      ]
     },
     "execution_count": 20,
     "metadata": {},
     "output_type": "execute_result"
    }
   ],
   "source": [
    "random[3:,:3] = cortada\n",
    "random"
   ]
  },
  {
   "cell_type": "code",
   "execution_count": 21,
   "id": "4d3677e2",
   "metadata": {},
   "outputs": [
    {
     "data": {
      "text/plain": [
       "array([[ True, False, False, False,  True, False],\n",
       "       [False, False, False, False,  True,  True],\n",
       "       [ True, False, False,  True, False, False],\n",
       "       [ True, False, False, False, False, False],\n",
       "       [False,  True, False, False, False, False],\n",
       "       [ True, False, False,  True, False,  True]])"
      ]
     },
     "execution_count": 21,
     "metadata": {},
     "output_type": "execute_result"
    }
   ],
   "source": [
    "random > 20"
   ]
  },
  {
   "cell_type": "code",
   "execution_count": 22,
   "id": "bbf32dd5",
   "metadata": {},
   "outputs": [],
   "source": [
    "nuevoRandom = np.where(random>20,'es mayor',1)"
   ]
  },
  {
   "cell_type": "code",
   "execution_count": 23,
   "id": "67e24d58",
   "metadata": {},
   "outputs": [
    {
     "data": {
      "text/plain": [
       "array([['es mayor', '1', '1', '1', 'es mayor', '1'],\n",
       "       ['1', '1', '1', '1', 'es mayor', 'es mayor'],\n",
       "       ['es mayor', '1', '1', 'es mayor', '1', '1'],\n",
       "       ['es mayor', '1', '1', '1', '1', '1'],\n",
       "       ['1', 'es mayor', '1', '1', '1', '1'],\n",
       "       ['es mayor', '1', '1', 'es mayor', '1', 'es mayor']], dtype='<U21')"
      ]
     },
     "execution_count": 23,
     "metadata": {},
     "output_type": "execute_result"
    }
   ],
   "source": [
    "random = nuevoRandom\n",
    "random"
   ]
  },
  {
   "cell_type": "markdown",
   "id": "c079e44c",
   "metadata": {},
   "source": [
    "# Mas random"
   ]
  },
  {
   "cell_type": "code",
   "execution_count": 24,
   "id": "1c82bd92",
   "metadata": {},
   "outputs": [
    {
     "data": {
      "text/plain": [
       "array([[[11, 13,  0, 28, 28, 34],\n",
       "        [19, 34,  2, 30, 14,  1],\n",
       "        [13, 32, 21, 18, 16, 28],\n",
       "        [28, 18,  4, 23, 23, 14],\n",
       "        [20, 33, 22, 17, 14,  1],\n",
       "        [10, 32,  4,  5,  3, 34]],\n",
       "\n",
       "       [[21, 20,  1, 25, 17, 25],\n",
       "        [10, 28,  7, 13,  5, 14],\n",
       "        [15, 30, 25, 25, 24,  9],\n",
       "        [27, 27, 28, 27, 23,  3],\n",
       "        [ 8,  6, 26,  3, 26, 23],\n",
       "        [21, 26, 13, 35, 32, 19]],\n",
       "\n",
       "       [[13,  4, 32, 11, 20, 18],\n",
       "        [21,  7, 15, 14, 16, 27],\n",
       "        [18, 31, 32, 13, 32, 22],\n",
       "        [ 9,  8, 34, 15,  0, 23],\n",
       "        [ 4,  6, 17, 12, 29, 22],\n",
       "        [19, 20,  8, 16, 13,  7]],\n",
       "\n",
       "       [[16, 22, 20, 13, 21,  1],\n",
       "        [ 4, 32,  1, 13,  8, 12],\n",
       "        [ 8, 34, 20, 22, 26, 14],\n",
       "        [ 2, 11,  7, 27, 34, 17],\n",
       "        [13, 21,  6,  3, 11, 24],\n",
       "        [ 7, 13, 30,  9, 18,  9]],\n",
       "\n",
       "       [[13,  0, 32,  8, 31, 20],\n",
       "        [33,  8,  8, 29,  1, 18],\n",
       "        [ 6, 22, 29, 27, 20, 11],\n",
       "        [ 9, 10,  3,  3,  6, 17],\n",
       "        [14,  9,  6, 12,  1, 29],\n",
       "        [ 2, 12, 31,  3,  7,  3]],\n",
       "\n",
       "       [[18,  1,  5, 32, 34,  4],\n",
       "        [27, 21, 15, 26, 34, 12],\n",
       "        [14, 26, 28,  2, 15, 11],\n",
       "        [33, 25, 23, 20, 32, 12],\n",
       "        [27, 21, 19, 31, 16,  8],\n",
       "        [21, 21, 31, 16, 30,  5]]])"
      ]
     },
     "execution_count": 24,
     "metadata": {},
     "output_type": "execute_result"
    }
   ],
   "source": [
    "a = np.random.randint(36, size=(6,6,6))\n",
    "a"
   ]
  },
  {
   "cell_type": "code",
   "execution_count": 25,
   "id": "63e5b879",
   "metadata": {},
   "outputs": [
    {
     "data": {
      "text/plain": [
       "array([[13,  0, 32],\n",
       "       [33,  8,  8],\n",
       "       [ 6, 22, 29],\n",
       "       [ 9, 10,  3],\n",
       "       [14,  9,  6],\n",
       "       [ 2, 12, 31]])"
      ]
     },
     "execution_count": 25,
     "metadata": {},
     "output_type": "execute_result"
    }
   ],
   "source": [
    "b = a[4,:,:3]\n",
    "b"
   ]
  },
  {
   "cell_type": "code",
   "execution_count": 26,
   "id": "3d506513",
   "metadata": {},
   "outputs": [
    {
     "data": {
      "text/plain": [
       "array([13, 33,  6,  9, 14,  2])"
      ]
     },
     "execution_count": 26,
     "metadata": {},
     "output_type": "execute_result"
    }
   ],
   "source": [
    "c = b[:,0]\n",
    "c"
   ]
  },
  {
   "cell_type": "code",
   "execution_count": 27,
   "id": "46add65c",
   "metadata": {},
   "outputs": [
    {
     "data": {
      "text/plain": [
       "array([12, 33,  6,  9, 14,  2])"
      ]
     },
     "execution_count": 27,
     "metadata": {},
     "output_type": "execute_result"
    }
   ],
   "source": [
    "c[0] = c[0]-1\n",
    "c"
   ]
  },
  {
   "cell_type": "code",
   "execution_count": 28,
   "id": "6aaaacb1",
   "metadata": {},
   "outputs": [
    {
     "data": {
      "text/plain": [
       "array([[12,  0, 32],\n",
       "       [33,  8,  8],\n",
       "       [ 6, 22, 29],\n",
       "       [ 9, 10,  3],\n",
       "       [14,  9,  6],\n",
       "       [ 2, 12, 31]])"
      ]
     },
     "execution_count": 28,
     "metadata": {},
     "output_type": "execute_result"
    }
   ],
   "source": [
    "b[:,0] = c\n",
    "b"
   ]
  },
  {
   "cell_type": "code",
   "execution_count": 29,
   "id": "90d2684b",
   "metadata": {},
   "outputs": [
    {
     "data": {
      "text/plain": [
       "3"
      ]
     },
     "execution_count": 29,
     "metadata": {},
     "output_type": "execute_result"
    }
   ],
   "source": [
    "a[4,:,:3] = b\n",
    "a.ndim"
   ]
  },
  {
   "cell_type": "code",
   "execution_count": 37,
   "id": "acd811dc",
   "metadata": {},
   "outputs": [
    {
     "name": "stdout",
     "output_type": "stream",
     "text": [
      "[[[11 13  0 28 28 34]\n",
      "  [19 34  2 30 14  1]\n",
      "  [13 32 99 99 99 99]\n",
      "  [28 18  4 23 23 14]\n",
      "  [20 33 22 17 14  1]\n",
      "  [10 32  4  5  3 34]]\n",
      "\n",
      " [[21 20  1 25 17 25]\n",
      "  [10 28  7 13  5 14]\n",
      "  [15 30 25 25 24  9]\n",
      "  [27 27 28 27 23  3]\n",
      "  [ 8  6 26  3 26 23]\n",
      "  [21 26 13 35 32 19]]\n",
      "\n",
      " [[13  4 32 11 20 18]\n",
      "  [21  7 15 14 16 27]\n",
      "  [18 31 32 13 32 22]\n",
      "  [ 9  8 34 15  0 23]\n",
      "  [ 4  6 17 12 29 22]\n",
      "  [19 20  8 16 13  7]]\n",
      "\n",
      " [[16 22 20 13 21  1]\n",
      "  [ 4 32  1 13  8 12]\n",
      "  [ 8 34 20 22 26 14]\n",
      "  [ 2 11  7 27 34 17]\n",
      "  [13 21  6  3 11 24]\n",
      "  [ 7 13 30  9 18  9]]\n",
      "\n",
      " [[12  0 32  8 31 20]\n",
      "  [33  8  8 29  1 18]\n",
      "  [ 6 22 29 27 20 11]\n",
      "  [ 9 10  3  3  6 17]\n",
      "  [14  9  6 12  1 29]\n",
      "  [ 2 12 31  3  7  3]]\n",
      "\n",
      " [[18  1  5 32 34  4]\n",
      "  [27 21 15 26 34 12]\n",
      "  [14 26 28  2 15 11]\n",
      "  [33 25 23 20 32 12]\n",
      "  [27 21 19 31 16  8]\n",
      "  [21 21 31 16 30  5]]]\n"
     ]
    }
   ],
   "source": [
    "print(a)"
   ]
  },
  {
   "cell_type": "code",
   "execution_count": 33,
   "id": "9b9c154b",
   "metadata": {},
   "outputs": [
    {
     "data": {
      "text/plain": [
       "array([13, 32, 21, 18, 16, 28])"
      ]
     },
     "execution_count": 33,
     "metadata": {},
     "output_type": "execute_result"
    }
   ],
   "source": [
    "d= a[0,2,:]\n",
    "d"
   ]
  },
  {
   "cell_type": "code",
   "execution_count": 35,
   "id": "cea3baa6",
   "metadata": {},
   "outputs": [],
   "source": [
    "d[2:] = 99"
   ]
  },
  {
   "cell_type": "code",
   "execution_count": 36,
   "id": "844a4c6d",
   "metadata": {},
   "outputs": [
    {
     "data": {
      "text/plain": [
       "array([13, 32, 99, 99, 99, 99])"
      ]
     },
     "execution_count": 36,
     "metadata": {},
     "output_type": "execute_result"
    }
   ],
   "source": [
    "d"
   ]
  },
  {
   "cell_type": "code",
   "execution_count": null,
   "id": "74ced29d",
   "metadata": {},
   "outputs": [],
   "source": []
  }
 ],
 "metadata": {
  "kernelspec": {
   "display_name": "Python 3 (ipykernel)",
   "language": "python",
   "name": "python3"
  },
  "language_info": {
   "codemirror_mode": {
    "name": "ipython",
    "version": 3
   },
   "file_extension": ".py",
   "mimetype": "text/x-python",
   "name": "python",
   "nbconvert_exporter": "python",
   "pygments_lexer": "ipython3",
   "version": "3.9.12"
  }
 },
 "nbformat": 4,
 "nbformat_minor": 5
}
