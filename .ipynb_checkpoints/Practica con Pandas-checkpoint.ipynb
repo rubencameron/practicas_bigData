{
 "cells": [
  {
   "cell_type": "code",
   "execution_count": 1,
   "id": "f00d1745",
   "metadata": {},
   "outputs": [],
   "source": [
    "import pandas as pd\n",
    "from pandas import Series, DataFrame"
   ]
  },
  {
   "cell_type": "code",
   "execution_count": 5,
   "id": "274c7643",
   "metadata": {},
   "outputs": [
    {
     "data": {
      "text/plain": [
       "0    1\n",
       "1    3\n",
       "2   -5\n",
       "3   -7\n",
       "dtype: int64"
      ]
     },
     "execution_count": 5,
     "metadata": {},
     "output_type": "execute_result"
    }
   ],
   "source": [
    "objeto1 = pd.Series([1,3,-5,-7])\n",
    "objeto1"
   ]
  },
  {
   "cell_type": "code",
   "execution_count": 3,
   "id": "a79b28ab",
   "metadata": {},
   "outputs": [
    {
     "data": {
      "text/plain": [
       "RangeIndex(start=0, stop=4, step=1)"
      ]
     },
     "execution_count": 3,
     "metadata": {},
     "output_type": "execute_result"
    }
   ],
   "source": [
    "objeto1.index #inicia en la posicion 0, termina en la 4, y va de pasos de a 1"
   ]
  },
  {
   "cell_type": "markdown",
   "id": "66f86bee",
   "metadata": {},
   "source": [
    "#### Ahora creo mis propios indices, hay dos formas de hacerlo"
   ]
  },
  {
   "cell_type": "code",
   "execution_count": 40,
   "id": "c3d864c3",
   "metadata": {},
   "outputs": [],
   "source": [
    "objeto2 = pd.Series([4,7,-5,3], index= ['d','b','a','c']) #Este es el ejemplo del material"
   ]
  },
  {
   "cell_type": "code",
   "execution_count": 41,
   "id": "c27bbf42",
   "metadata": {},
   "outputs": [
    {
     "data": {
      "text/plain": [
       "d    4\n",
       "b    7\n",
       "a   -5\n",
       "c    3\n",
       "dtype: int64"
      ]
     },
     "execution_count": 41,
     "metadata": {},
     "output_type": "execute_result"
    }
   ],
   "source": [
    "objeto2"
   ]
  },
  {
   "cell_type": "code",
   "execution_count": 23,
   "id": "3eb6f648",
   "metadata": {},
   "outputs": [
    {
     "data": {
      "text/plain": [
       "d    4\n",
       "b    7\n",
       "a   -5\n",
       "c    3\n",
       "dtype: int64"
      ]
     },
     "execution_count": 23,
     "metadata": {},
     "output_type": "execute_result"
    }
   ],
   "source": [
    "objeto2 = pd.Series([4,7,-5,3])\n",
    "objeto2.index = ['d','b','a','c']\n",
    "objeto2"
   ]
  },
  {
   "cell_type": "code",
   "execution_count": 14,
   "id": "3d00d636",
   "metadata": {},
   "outputs": [
    {
     "name": "stdout",
     "output_type": "stream",
     "text": [
      "7\n"
     ]
    }
   ],
   "source": [
    "print(objeto2['b'])"
   ]
  },
  {
   "cell_type": "code",
   "execution_count": 16,
   "id": "aa18ba89",
   "metadata": {},
   "outputs": [
    {
     "name": "stdout",
     "output_type": "stream",
     "text": [
      "b    7\n",
      "c    3\n",
      "dtype: int64\n"
     ]
    }
   ],
   "source": [
    "print(objeto2[['b','c']]) #Como en numpy, asi indexo arrays de 1 dimension"
   ]
  },
  {
   "cell_type": "code",
   "execution_count": 17,
   "id": "b652343c",
   "metadata": {},
   "outputs": [
    {
     "data": {
      "text/plain": [
       "d     True\n",
       "b     True\n",
       "a    False\n",
       "c     True\n",
       "dtype: bool"
      ]
     },
     "execution_count": 17,
     "metadata": {},
     "output_type": "execute_result"
    }
   ],
   "source": [
    "objeto2>0                 #Operaciones booleanas"
   ]
  },
  {
   "cell_type": "code",
   "execution_count": 24,
   "id": "e84bd815",
   "metadata": {},
   "outputs": [
    {
     "data": {
      "text/plain": [
       "d    12\n",
       "b    21\n",
       "a   -15\n",
       "c     9\n",
       "dtype: int64"
      ]
     },
     "execution_count": 24,
     "metadata": {},
     "output_type": "execute_result"
    }
   ],
   "source": [
    "objeto2*3                 #Multiplicacion"
   ]
  },
  {
   "cell_type": "markdown",
   "id": "be47a487",
   "metadata": {},
   "source": [
    "## Serie a partir de diccionario de Python"
   ]
  },
  {
   "cell_type": "code",
   "execution_count": 25,
   "id": "d8d18500",
   "metadata": {},
   "outputs": [],
   "source": [
    "dict = {'kilobyte': 1024, 'megabyte': 1048576, 'gigabyte': 1073741824}"
   ]
  },
  {
   "cell_type": "code",
   "execution_count": 27,
   "id": "83b35c2f",
   "metadata": {},
   "outputs": [
    {
     "data": {
      "text/plain": [
       "kilobyte          1024\n",
       "megabyte       1048576\n",
       "gigabyte    1073741824\n",
       "dtype: int64"
      ]
     },
     "execution_count": 27,
     "metadata": {},
     "output_type": "execute_result"
    }
   ],
   "source": [
    "objeto3 = pd.Series(dict)\n",
    "objeto3"
   ]
  },
  {
   "cell_type": "markdown",
   "id": "b5e6ac90",
   "metadata": {},
   "source": [
    "### Funcion isnull"
   ]
  },
  {
   "cell_type": "code",
   "execution_count": 31,
   "id": "60f3e816",
   "metadata": {},
   "outputs": [
    {
     "data": {
      "text/plain": [
       "Ana     19.0\n",
       "Juan    24.0\n",
       "Ema     33.0\n",
       "Teo      NaN\n",
       "Luis    29.0\n",
       "dtype: float64"
      ]
     },
     "execution_count": 31,
     "metadata": {},
     "output_type": "execute_result"
    }
   ],
   "source": [
    "objeto4 = pd.Series([19,24,33,None,29], index=['Ana','Juan','Ema','Teo','Luis'])\n",
    "objeto4"
   ]
  },
  {
   "cell_type": "code",
   "execution_count": 32,
   "id": "8fa4daad",
   "metadata": {},
   "outputs": [
    {
     "data": {
      "text/plain": [
       "Ana     False\n",
       "Juan    False\n",
       "Ema     False\n",
       "Teo      True\n",
       "Luis    False\n",
       "dtype: bool"
      ]
     },
     "execution_count": 32,
     "metadata": {},
     "output_type": "execute_result"
    }
   ],
   "source": [
    "pd.isnull(objeto4)"
   ]
  },
  {
   "cell_type": "code",
   "execution_count": 33,
   "id": "97c62bc0",
   "metadata": {},
   "outputs": [
    {
     "data": {
      "text/plain": [
       "d    4\n",
       "b    7\n",
       "a   -5\n",
       "c    3\n",
       "dtype: int64"
      ]
     },
     "execution_count": 33,
     "metadata": {},
     "output_type": "execute_result"
    }
   ],
   "source": [
    "objeto2"
   ]
  },
  {
   "cell_type": "code",
   "execution_count": 34,
   "id": "8cd8966a",
   "metadata": {},
   "outputs": [
    {
     "data": {
      "text/plain": [
       "0    1\n",
       "1    3\n",
       "2   -5\n",
       "3   -7\n",
       "dtype: int64"
      ]
     },
     "execution_count": 34,
     "metadata": {},
     "output_type": "execute_result"
    }
   ],
   "source": [
    "objeto1"
   ]
  },
  {
   "cell_type": "code",
   "execution_count": 35,
   "id": "54efd580",
   "metadata": {},
   "outputs": [
    {
     "data": {
      "text/plain": [
       "0   NaN\n",
       "1   NaN\n",
       "2   NaN\n",
       "3   NaN\n",
       "a   NaN\n",
       "b   NaN\n",
       "c   NaN\n",
       "d   NaN\n",
       "dtype: float64"
      ]
     },
     "execution_count": 35,
     "metadata": {},
     "output_type": "execute_result"
    }
   ],
   "source": [
    "objeto1+objeto2 #Los indices deben coincidir para que se pueda realizar operaciones con Series"
   ]
  },
  {
   "cell_type": "code",
   "execution_count": 36,
   "id": "b8cf3d57",
   "metadata": {},
   "outputs": [],
   "source": [
    "objeto2.index=[0,1,2,3]"
   ]
  },
  {
   "cell_type": "code",
   "execution_count": 37,
   "id": "8070b43f",
   "metadata": {},
   "outputs": [
    {
     "data": {
      "text/plain": [
       "0     5\n",
       "1    10\n",
       "2   -10\n",
       "3    -4\n",
       "dtype: int64"
      ]
     },
     "execution_count": 37,
     "metadata": {},
     "output_type": "execute_result"
    }
   ],
   "source": [
    "objeto1+objeto2"
   ]
  },
  {
   "cell_type": "code",
   "execution_count": 38,
   "id": "4288c525",
   "metadata": {},
   "outputs": [],
   "source": [
    "objeto4.index.name = 'nombre' #Le estoy diciendo a pandas que los elementos que se encuentran en el index \n",
    "                              #tendran el atributo de nombre"
   ]
  },
  {
   "cell_type": "code",
   "execution_count": 39,
   "id": "4d7065fb",
   "metadata": {},
   "outputs": [],
   "source": [
    "objeto4.name = 'edad' #mientras que los elementos que integran el objeto 4 en si, tendran atributo de edad"
   ]
  },
  {
   "cell_type": "code",
   "execution_count": null,
   "id": "0332b423",
   "metadata": {},
   "outputs": [],
   "source": []
  }
 ],
 "metadata": {
  "kernelspec": {
   "display_name": "Python 3 (ipykernel)",
   "language": "python",
   "name": "python3"
  },
  "language_info": {
   "codemirror_mode": {
    "name": "ipython",
    "version": 3
   },
   "file_extension": ".py",
   "mimetype": "text/x-python",
   "name": "python",
   "nbconvert_exporter": "python",
   "pygments_lexer": "ipython3",
   "version": "3.9.12"
  }
 },
 "nbformat": 4,
 "nbformat_minor": 5
}
