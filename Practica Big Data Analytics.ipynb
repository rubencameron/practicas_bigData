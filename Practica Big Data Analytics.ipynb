{
 "cells": [
  {
   "cell_type": "markdown",
   "id": "401a494c",
   "metadata": {},
   "source": [
    "# Mi primer codigo\n",
    "print(\"Hola Mundo!\")\n",
    "\n",
    "# Introduccion a Python"
   ]
  },
  {
   "cell_type": "code",
   "execution_count": 9,
   "id": "6164cf3f",
   "metadata": {},
   "outputs": [
    {
     "name": "stdout",
     "output_type": "stream",
     "text": [
      "[1, 2, 3]\n"
     ]
    }
   ],
   "source": [
    "a=[1,2,3]\n",
    "print(a)"
   ]
  },
  {
   "cell_type": "code",
   "execution_count": 10,
   "id": "6965e203",
   "metadata": {},
   "outputs": [],
   "source": [
    "a? #Comando de interrogacion muestra la informacion general del objeto"
   ]
  },
  {
   "cell_type": "code",
   "execution_count": 7,
   "id": "50ef5806",
   "metadata": {},
   "outputs": [],
   "source": [
    "import pandas as pd"
   ]
  },
  {
   "cell_type": "code",
   "execution_count": 20,
   "id": "31a74107",
   "metadata": {},
   "outputs": [],
   "source": [
    "pd.read_csv?"
   ]
  },
  {
   "cell_type": "code",
   "execution_count": 20,
   "id": "8c4b5df5",
   "metadata": {
    "scrolled": false
   },
   "outputs": [
    {
     "name": "stdout",
     "output_type": "stream",
     "text": [
      "Este elemento es un continente Asia\n",
      "Este elemento es un continente Europa\n",
      "Este elemento es un continente America\n",
      "Este elemento es una CIUDAD Alta Gracia\n",
      "Este elemento es un continente Oceania\n",
      "Este elemento es un continente Africa\n",
      "Este elemento es una CIUDAD Cordoba\n"
     ]
    }
   ],
   "source": [
    "continentes = ['Asia', 'Europa', 'America','Alta Gracia', 'Oceania', 'Africa', 'Cordoba']\n",
    "ciudades = ['Cordoba', 'Carlos Paz', 'Alta Gracia', 'Rio Cuarto', 'Villa Maria']\n",
    "\n",
    "contador = 0\n",
    "\n",
    "for i in continentes:\n",
    "    if continentes [contador] in ciudades:\n",
    "        print('Este elemento es una CIUDAD ' + continentes[contador])\n",
    "         \n",
    "        \n",
    "    else: \n",
    "        print('Este elemento es un continente ' + continentes[contador])\n",
    "        \n",
    "    contador += 1\n",
    "    \n",
    "\n"
   ]
  },
  {
   "cell_type": "markdown",
   "id": "c4a8fcf9",
   "metadata": {},
   "source": [
    "### Atributos y metodos con tab"
   ]
  },
  {
   "cell_type": "code",
   "execution_count": 32,
   "id": "eb681604",
   "metadata": {},
   "outputs": [
    {
     "data": {
      "text/plain": [
       "'Hola mundo'"
      ]
     },
     "execution_count": 32,
     "metadata": {},
     "output_type": "execute_result"
    }
   ],
   "source": [
    "a='hola mundo'\n",
    "a.capitalize()"
   ]
  },
  {
   "cell_type": "code",
   "execution_count": 34,
   "id": "5a851270",
   "metadata": {},
   "outputs": [
    {
     "data": {
      "text/plain": [
       "[1, 2, 3, 4, 'hola', 'x', 'y']"
      ]
     },
     "execution_count": 34,
     "metadata": {},
     "output_type": "execute_result"
    }
   ],
   "source": [
    "z=[1,2,3,4,'hola']\n",
    "z.extend(['x', 'y'])\n",
    "z"
   ]
  },
  {
   "cell_type": "code",
   "execution_count": 35,
   "id": "73a3a8c9",
   "metadata": {},
   "outputs": [
    {
     "data": {
      "text/plain": [
       "[1, ['a', 'b', 'c', 'd', 'e'], 2, 3]"
      ]
     },
     "execution_count": 35,
     "metadata": {},
     "output_type": "execute_result"
    }
   ],
   "source": [
    "a=[1,2,3]\n",
    "b=['a', 'b', 'c', 'd', 'e']\n",
    "a.insert(1, b)\n",
    "a"
   ]
  },
  {
   "cell_type": "markdown",
   "id": "02babb9b",
   "metadata": {},
   "source": [
    "### Operaciones binarias y comparaciones"
   ]
  },
  {
   "cell_type": "code",
   "execution_count": 36,
   "id": "f1e168ad",
   "metadata": {},
   "outputs": [
    {
     "data": {
      "text/plain": [
       "-2"
      ]
     },
     "execution_count": 36,
     "metadata": {},
     "output_type": "execute_result"
    }
   ],
   "source": [
    "5-7"
   ]
  },
  {
   "cell_type": "code",
   "execution_count": 37,
   "id": "f1664d50",
   "metadata": {},
   "outputs": [
    {
     "data": {
      "text/plain": [
       "22.2"
      ]
     },
     "execution_count": 37,
     "metadata": {},
     "output_type": "execute_result"
    }
   ],
   "source": [
    "10+12.2"
   ]
  },
  {
   "cell_type": "code",
   "execution_count": 38,
   "id": "e9cd8751",
   "metadata": {},
   "outputs": [
    {
     "data": {
      "text/plain": [
       "False"
      ]
     },
     "execution_count": 38,
     "metadata": {},
     "output_type": "execute_result"
    }
   ],
   "source": [
    "2>=5"
   ]
  },
  {
   "cell_type": "code",
   "execution_count": 39,
   "id": "a3f9b5a6",
   "metadata": {},
   "outputs": [],
   "source": [
    "a=[1,2,3]\n",
    "b=a\n",
    "c= list(a)"
   ]
  },
  {
   "cell_type": "code",
   "execution_count": 40,
   "id": "3dde9c4c",
   "metadata": {},
   "outputs": [
    {
     "data": {
      "text/plain": [
       "True"
      ]
     },
     "execution_count": 40,
     "metadata": {},
     "output_type": "execute_result"
    }
   ],
   "source": [
    "a is b   # literalmente a es b como se menciona anteriormente, ambos hacen referencia al mismo objeto de Python "
   ]
  },
  {
   "cell_type": "code",
   "execution_count": 41,
   "id": "59ecbd09",
   "metadata": {},
   "outputs": [
    {
     "data": {
      "text/plain": [
       "False"
      ]
     },
     "execution_count": 41,
     "metadata": {},
     "output_type": "execute_result"
    }
   ],
   "source": [
    "a is c"
   ]
  },
  {
   "cell_type": "code",
   "execution_count": 42,
   "id": "b02d75e3",
   "metadata": {},
   "outputs": [
    {
     "data": {
      "text/plain": [
       "True"
      ]
     },
     "execution_count": 42,
     "metadata": {},
     "output_type": "execute_result"
    }
   ],
   "source": [
    "a == c   # a NO es c, solamente son iguales\n",
    "         # la función list siempre crea una nueva lista de Python (es decir, una copia de la original)"
   ]
  },
  {
   "cell_type": "markdown",
   "id": "5a36d7e4",
   "metadata": {},
   "source": [
    "### Objetos mutables e inmutables"
   ]
  },
  {
   "cell_type": "code",
   "execution_count": 43,
   "id": "1f5aa029",
   "metadata": {},
   "outputs": [],
   "source": [
    "Lista=['Hola', ['como', 'estas'], '?']"
   ]
  },
  {
   "cell_type": "code",
   "execution_count": 44,
   "id": "ca346be4",
   "metadata": {},
   "outputs": [],
   "source": [
    "Lista[1]=['todo', 'bien'] # se reemplaza el contenido en el espacio 1 del array "
   ]
  },
  {
   "cell_type": "code",
   "execution_count": 45,
   "id": "01c55208",
   "metadata": {
    "scrolled": true
   },
   "outputs": [
    {
     "data": {
      "text/plain": [
       "['Hola', ['todo', 'bien'], '?']"
      ]
     },
     "execution_count": 45,
     "metadata": {},
     "output_type": "execute_result"
    }
   ],
   "source": [
    "Lista"
   ]
  },
  {
   "cell_type": "markdown",
   "id": "1a13f578",
   "metadata": {},
   "source": [
    "### Las tuplas son inmutables (las mismas llevan parentesis)"
   ]
  },
  {
   "cell_type": "code",
   "execution_count": 46,
   "id": "e400a7db",
   "metadata": {},
   "outputs": [
    {
     "data": {
      "text/plain": [
       "('Chau', 'nos', 'vemos')"
      ]
     },
     "execution_count": 46,
     "metadata": {},
     "output_type": "execute_result"
    }
   ],
   "source": [
    "Tupla=('Chau', 'nos', 'vemos')\n",
    "Tupla"
   ]
  },
  {
   "cell_type": "code",
   "execution_count": 47,
   "id": "ae638186",
   "metadata": {
    "scrolled": true
   },
   "outputs": [
    {
     "ename": "TypeError",
     "evalue": "'tuple' object does not support item assignment",
     "output_type": "error",
     "traceback": [
      "\u001b[0;31m---------------------------------------------------------------------------\u001b[0m",
      "\u001b[0;31mTypeError\u001b[0m                                 Traceback (most recent call last)",
      "Input \u001b[0;32mIn [47]\u001b[0m, in \u001b[0;36m<cell line: 1>\u001b[0;34m()\u001b[0m\n\u001b[0;32m----> 1\u001b[0m Tupla[\u001b[38;5;241m2\u001b[39m]\u001b[38;5;241m=\u001b[39m(\u001b[38;5;124m'\u001b[39m\u001b[38;5;124mVolveremos a ver\u001b[39m\u001b[38;5;124m'\u001b[39m)\n\u001b[1;32m      2\u001b[0m Tupla\n",
      "\u001b[0;31mTypeError\u001b[0m: 'tuple' object does not support item assignment"
     ]
    }
   ],
   "source": [
    "Tupla[2]=('Volveremos a ver')\n",
    "Tupla"
   ]
  },
  {
   "cell_type": "markdown",
   "id": "5b2698ae",
   "metadata": {},
   "source": [
    "### Objeto fecha-hora"
   ]
  },
  {
   "cell_type": "code",
   "execution_count": 48,
   "id": "faa370e0",
   "metadata": {},
   "outputs": [],
   "source": [
    "from datetime import datetime, date, time"
   ]
  },
  {
   "cell_type": "code",
   "execution_count": 49,
   "id": "2b41cd30",
   "metadata": {},
   "outputs": [
    {
     "data": {
      "text/plain": [
       "datetime.datetime(2022, 7, 26, 1, 21)"
      ]
     },
     "execution_count": 49,
     "metadata": {},
     "output_type": "execute_result"
    }
   ],
   "source": [
    "dt=datetime(2022, 7, 26, 1, 21)\n",
    "dt"
   ]
  },
  {
   "cell_type": "code",
   "execution_count": 50,
   "id": "268b57b7",
   "metadata": {},
   "outputs": [
    {
     "data": {
      "text/plain": [
       "26"
      ]
     },
     "execution_count": 50,
     "metadata": {},
     "output_type": "execute_result"
    }
   ],
   "source": [
    "dt.day"
   ]
  },
  {
   "cell_type": "code",
   "execution_count": 51,
   "id": "160c4ab1",
   "metadata": {},
   "outputs": [
    {
     "data": {
      "text/plain": [
       "21"
      ]
     },
     "execution_count": 51,
     "metadata": {},
     "output_type": "execute_result"
    }
   ],
   "source": [
    "dt.minute"
   ]
  },
  {
   "cell_type": "code",
   "execution_count": 53,
   "id": "993fe439",
   "metadata": {},
   "outputs": [
    {
     "data": {
      "text/plain": [
       "datetime.date(2022, 7, 26)"
      ]
     },
     "execution_count": 53,
     "metadata": {},
     "output_type": "execute_result"
    }
   ],
   "source": [
    "dt.date()"
   ]
  },
  {
   "cell_type": "code",
   "execution_count": 54,
   "id": "f4177196",
   "metadata": {},
   "outputs": [
    {
     "data": {
      "text/plain": [
       "datetime.time(1, 21)"
      ]
     },
     "execution_count": 54,
     "metadata": {},
     "output_type": "execute_result"
    }
   ],
   "source": [
    "dt.time()"
   ]
  },
  {
   "cell_type": "code",
   "execution_count": 56,
   "id": "f3dc1d32",
   "metadata": {},
   "outputs": [
    {
     "data": {
      "text/plain": [
       "'26/07/22 01:21'"
      ]
     },
     "execution_count": 56,
     "metadata": {},
     "output_type": "execute_result"
    }
   ],
   "source": [
    "dt.strftime('%d/%m/%y %H:%M')"
   ]
  },
  {
   "cell_type": "code",
   "execution_count": 4,
   "id": "3971877c",
   "metadata": {},
   "outputs": [],
   "source": [
    "%reset?"
   ]
  },
  {
   "cell_type": "code",
   "execution_count": null,
   "id": "75ced3c3",
   "metadata": {},
   "outputs": [],
   "source": []
  }
 ],
 "metadata": {
  "kernelspec": {
   "display_name": "Python 3 (ipykernel)",
   "language": "python",
   "name": "python3"
  },
  "language_info": {
   "codemirror_mode": {
    "name": "ipython",
    "version": 3
   },
   "file_extension": ".py",
   "mimetype": "text/x-python",
   "name": "python",
   "nbconvert_exporter": "python",
   "pygments_lexer": "ipython3",
   "version": "3.9.12"
  }
 },
 "nbformat": 4,
 "nbformat_minor": 5
}
