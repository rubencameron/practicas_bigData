{
 "cells": [
  {
   "cell_type": "markdown",
   "id": "fb20b7fa",
   "metadata": {},
   "source": [
    "# Primer divague de todo lo aprendido"
   ]
  },
  {
   "cell_type": "code",
   "execution_count": 2,
   "id": "06da3798",
   "metadata": {},
   "outputs": [],
   "source": [
    "import numpy as np"
   ]
  },
  {
   "cell_type": "code",
   "execution_count": 3,
   "id": "08c1293a",
   "metadata": {},
   "outputs": [
    {
     "data": {
      "text/plain": [
       "array(['todo', 'vos'], dtype='<U4')"
      ]
     },
     "execution_count": 3,
     "metadata": {},
     "output_type": "execute_result"
    }
   ],
   "source": [
    "a = np.array(['hola','que','tal','todo','bien','vos'])\n",
    "a[[3,5]]\n",
    "#Asi indexo arrays unidimensionales"
   ]
  },
  {
   "cell_type": "code",
   "execution_count": 37,
   "id": "5530bfc5",
   "metadata": {},
   "outputs": [
    {
     "name": "stdout",
     "output_type": "stream",
     "text": [
      "hola [2]\n"
     ]
    }
   ],
   "source": [
    "print(a[0],[2])"
   ]
  },
  {
   "cell_type": "code",
   "execution_count": 66,
   "id": "f918be9b",
   "metadata": {},
   "outputs": [
    {
     "data": {
      "text/plain": [
       "array([['hola', 'que', 'tal'],\n",
       "       ['todo', 'bien', 'vos']], dtype='<U4')"
      ]
     },
     "execution_count": 66,
     "metadata": {},
     "output_type": "execute_result"
    }
   ],
   "source": [
    "b = np.array([['hola','que','tal'],['todo','bien','vos']])\n",
    "b"
   ]
  },
  {
   "cell_type": "code",
   "execution_count": 67,
   "id": "0b65a076",
   "metadata": {},
   "outputs": [
    {
     "name": "stdout",
     "output_type": "stream",
     "text": [
      "['todo' 'vos']\n"
     ]
    }
   ],
   "source": [
    "print(b[1,[0,2]])"
   ]
  },
  {
   "cell_type": "code",
   "execution_count": 68,
   "id": "6bf9ef7d",
   "metadata": {},
   "outputs": [
    {
     "data": {
      "text/plain": [
       "array([['todo'],\n",
       "       ['vos']], dtype='<U4')"
      ]
     },
     "execution_count": 68,
     "metadata": {},
     "output_type": "execute_result"
    }
   ],
   "source": [
    "modificacion1 = b[1,[0,2]]\n",
    "modificacion1.reshape(2,1)"
   ]
  },
  {
   "cell_type": "code",
   "execution_count": 69,
   "id": "3056d652",
   "metadata": {},
   "outputs": [
    {
     "name": "stdout",
     "output_type": "stream",
     "text": [
      "['mod1' 'mod2']\n"
     ]
    }
   ],
   "source": [
    "modificacion1[0] = 'mod1'\n",
    "modificacion1[1] = 'mod2'\n",
    "print(modificacion1)\n"
   ]
  },
  {
   "cell_type": "code",
   "execution_count": 70,
   "id": "8065f42c",
   "metadata": {},
   "outputs": [
    {
     "name": "stdout",
     "output_type": "stream",
     "text": [
      "[['hola' 'que' 'tal']\n",
      " ['todo' 'bien' 'vos']]\n"
     ]
    }
   ],
   "source": [
    "print(b)"
   ]
  },
  {
   "cell_type": "code",
   "execution_count": 75,
   "id": "e8299687",
   "metadata": {},
   "outputs": [],
   "source": [
    "b[1,[0,2]] = modificacion1"
   ]
  },
  {
   "cell_type": "code",
   "execution_count": 95,
   "id": "5a6504cb",
   "metadata": {},
   "outputs": [
    {
     "data": {
      "text/plain": [
       "array([['hola', 'que', 'tal'],\n",
       "       ['mod1', 'bien', 'mod2']], dtype='<U4')"
      ]
     },
     "execution_count": 95,
     "metadata": {},
     "output_type": "execute_result"
    }
   ],
   "source": [
    "b"
   ]
  },
  {
   "cell_type": "markdown",
   "id": "191ecaa9",
   "metadata": {},
   "source": [
    "## Numeros random"
   ]
  },
  {
   "cell_type": "code",
   "execution_count": 97,
   "id": "c8079c87",
   "metadata": {},
   "outputs": [
    {
     "data": {
      "text/plain": [
       "array([[ 7, 33, 13, 18, 34, 21],\n",
       "       [19,  9, 20, 35,  8, 35],\n",
       "       [13, 34, 18,  8, 18, 11],\n",
       "       [22,  4, 28, 21, 25,  9],\n",
       "       [35, 33, 24, 19, 26, 13],\n",
       "       [ 2, 33, 18, 20, 24,  8]])"
      ]
     },
     "execution_count": 97,
     "metadata": {},
     "output_type": "execute_result"
    }
   ],
   "source": [
    "random = np.random.randint(36, size=(6,6))\n",
    "random"
   ]
  },
  {
   "cell_type": "code",
   "execution_count": 99,
   "id": "3adbccc6",
   "metadata": {},
   "outputs": [],
   "source": [
    "random[1,[5]] = 1000"
   ]
  },
  {
   "cell_type": "code",
   "execution_count": 102,
   "id": "b45abd20",
   "metadata": {},
   "outputs": [],
   "source": [
    "random = random.astype('float64')"
   ]
  },
  {
   "cell_type": "code",
   "execution_count": 103,
   "id": "2653906a",
   "metadata": {},
   "outputs": [
    {
     "data": {
      "text/plain": [
       "array([[   7.,   33.,   13.,   18.,   34.,   21.],\n",
       "       [  19.,    9.,   20.,   35.,    8., 1000.],\n",
       "       [  13.,   34.,   18.,    8.,   18.,   11.],\n",
       "       [  22.,    4.,   28.,   21.,   25.,    9.],\n",
       "       [  35.,   33.,   24.,   19.,   26.,   13.],\n",
       "       [   2.,   33.,   18.,   20.,   24.,    8.]])"
      ]
     },
     "execution_count": 103,
     "metadata": {},
     "output_type": "execute_result"
    }
   ],
   "source": [
    "random"
   ]
  },
  {
   "cell_type": "code",
   "execution_count": 104,
   "id": "bd9b8903",
   "metadata": {},
   "outputs": [
    {
     "name": "stdout",
     "output_type": "stream",
     "text": [
      "[[   7   33   13   18   34   21]\n",
      " [  19    9   20   35    8 1000]\n",
      " [  13   34   18    8   18   11]\n",
      " [  22    4   28   21   25    9]\n",
      " [  35   33   24   19   26   13]\n",
      " [   2   33   18   20   24    8]]\n"
     ]
    }
   ],
   "source": [
    "random = random.astype('int32')\n",
    "print(random)"
   ]
  },
  {
   "cell_type": "code",
   "execution_count": 126,
   "id": "a08bacda",
   "metadata": {
    "scrolled": true
   },
   "outputs": [
    {
     "name": "stdout",
     "output_type": "stream",
     "text": [
      "[[22  4 28]\n",
      " [35 33 24]\n",
      " [ 2 33 18]]\n"
     ]
    }
   ],
   "source": [
    "cortada = random[3:,:3]\n",
    "print(cortada)\n"
   ]
  },
  {
   "cell_type": "code",
   "execution_count": 128,
   "id": "bf88622c",
   "metadata": {},
   "outputs": [],
   "source": [
    "cortada = cortada+5"
   ]
  },
  {
   "cell_type": "code",
   "execution_count": 129,
   "id": "4c31cd2f",
   "metadata": {},
   "outputs": [
    {
     "name": "stdout",
     "output_type": "stream",
     "text": [
      "[[27  9 33]\n",
      " [40 38 29]\n",
      " [ 7 38 23]]\n"
     ]
    }
   ],
   "source": [
    "print(cortada)"
   ]
  },
  {
   "cell_type": "code",
   "execution_count": 131,
   "id": "39243fd0",
   "metadata": {},
   "outputs": [
    {
     "data": {
      "text/plain": [
       "array([[   7,   33,   13,   18,   34,   21],\n",
       "       [  19,    9,   20,   35,    8, 1000],\n",
       "       [  13,   34,   18,    8,   18,   11],\n",
       "       [  27,    9,   33,   21,   25,    9],\n",
       "       [  40,   38,   29,   19,   26,   13],\n",
       "       [   7,   38,   23,   20,   24,    8]], dtype=int32)"
      ]
     },
     "execution_count": 131,
     "metadata": {},
     "output_type": "execute_result"
    }
   ],
   "source": [
    "random[3:,:3] = cortada\n",
    "random"
   ]
  },
  {
   "cell_type": "code",
   "execution_count": 132,
   "id": "4d3677e2",
   "metadata": {},
   "outputs": [
    {
     "data": {
      "text/plain": [
       "array([[False,  True, False, False,  True,  True],\n",
       "       [False, False, False,  True, False,  True],\n",
       "       [False,  True, False, False, False, False],\n",
       "       [ True, False,  True,  True,  True, False],\n",
       "       [ True,  True,  True, False,  True, False],\n",
       "       [False,  True,  True, False,  True, False]])"
      ]
     },
     "execution_count": 132,
     "metadata": {},
     "output_type": "execute_result"
    }
   ],
   "source": [
    "random > 20"
   ]
  },
  {
   "cell_type": "code",
   "execution_count": 139,
   "id": "bbf32dd5",
   "metadata": {},
   "outputs": [],
   "source": [
    "nuevoRandom = np.where(random>20,'es mayor',1)"
   ]
  },
  {
   "cell_type": "code",
   "execution_count": 141,
   "id": "67e24d58",
   "metadata": {},
   "outputs": [
    {
     "data": {
      "text/plain": [
       "array([['1', 'es mayor', '1', '1', 'es mayor', 'es mayor'],\n",
       "       ['1', '1', '1', 'es mayor', '1', 'es mayor'],\n",
       "       ['1', 'es mayor', '1', '1', '1', '1'],\n",
       "       ['es mayor', '1', 'es mayor', 'es mayor', 'es mayor', '1'],\n",
       "       ['es mayor', 'es mayor', 'es mayor', '1', 'es mayor', '1'],\n",
       "       ['1', 'es mayor', 'es mayor', '1', 'es mayor', '1']], dtype='<U21')"
      ]
     },
     "execution_count": 141,
     "metadata": {},
     "output_type": "execute_result"
    }
   ],
   "source": [
    "random = nuevoRandom\n",
    "random"
   ]
  },
  {
   "cell_type": "markdown",
   "id": "c079e44c",
   "metadata": {},
   "source": [
    "# Mas random"
   ]
  },
  {
   "cell_type": "code",
   "execution_count": 7,
   "id": "1c82bd92",
   "metadata": {},
   "outputs": [
    {
     "data": {
      "text/plain": [
       "array([[[34, 29, 18, 30, 32, 29],\n",
       "        [ 5, 30, 13, 16, 31,  5],\n",
       "        [14,  9, 11, 28, 17,  4],\n",
       "        [33, 26, 20, 30, 14, 21],\n",
       "        [28, 20, 23, 14, 31, 32],\n",
       "        [23, 22,  1, 33,  5, 25]],\n",
       "\n",
       "       [[23, 25, 31,  6, 22, 21],\n",
       "        [11, 22, 25,  0,  2, 27],\n",
       "        [14,  0, 20, 15,  3, 23],\n",
       "        [26, 11, 21,  8, 14, 29],\n",
       "        [ 3, 18,  1, 27, 24, 17],\n",
       "        [14,  9,  8, 31,  1,  3]],\n",
       "\n",
       "       [[30, 29, 35, 31, 12, 10],\n",
       "        [ 9, 26, 22, 27, 11, 31],\n",
       "        [29, 34, 10,  7, 34, 25],\n",
       "        [31,  4, 26, 33, 23, 13],\n",
       "        [ 3, 21, 25, 16,  2,  4],\n",
       "        [30,  1, 25, 13,  6, 34]],\n",
       "\n",
       "       [[ 1, 22,  9,  4,  3, 25],\n",
       "        [30, 10, 32, 27,  1, 23],\n",
       "        [32, 20, 14,  6, 12, 23],\n",
       "        [ 3, 31, 14,  9, 14, 30],\n",
       "        [15, 18, 16, 10, 29, 13],\n",
       "        [15, 19,  6, 21, 11, 23]],\n",
       "\n",
       "       [[27, 32,  4,  2, 15, 32],\n",
       "        [27, 30,  1, 34, 30, 29],\n",
       "        [ 8, 29, 20, 30, 26, 27],\n",
       "        [ 9,  7, 17, 11, 35,  2],\n",
       "        [18, 11, 32, 32, 10,  9],\n",
       "        [ 1, 32, 21, 32, 16, 19]],\n",
       "\n",
       "       [[ 3, 19, 17,  4, 17, 20],\n",
       "        [35, 28, 14, 25, 34,  1],\n",
       "        [ 4, 12, 14, 26, 30, 23],\n",
       "        [29, 23,  9, 35, 32, 17],\n",
       "        [34, 13, 23, 12, 17,  1],\n",
       "        [ 8,  0, 24,  7,  7,  2]]])"
      ]
     },
     "execution_count": 7,
     "metadata": {},
     "output_type": "execute_result"
    }
   ],
   "source": [
    "a = np.random.randint(36, size=(6,6,6))\n",
    "a"
   ]
  },
  {
   "cell_type": "code",
   "execution_count": 8,
   "id": "63e5b879",
   "metadata": {},
   "outputs": [
    {
     "data": {
      "text/plain": [
       "array([[27, 32,  4],\n",
       "       [27, 30,  1],\n",
       "       [ 8, 29, 20],\n",
       "       [ 9,  7, 17],\n",
       "       [18, 11, 32],\n",
       "       [ 1, 32, 21]])"
      ]
     },
     "execution_count": 8,
     "metadata": {},
     "output_type": "execute_result"
    }
   ],
   "source": [
    "b = a[4,:,:3]\n",
    "b"
   ]
  },
  {
   "cell_type": "code",
   "execution_count": 10,
   "id": "3d506513",
   "metadata": {},
   "outputs": [
    {
     "data": {
      "text/plain": [
       "array([27, 27,  8,  9, 18,  1])"
      ]
     },
     "execution_count": 10,
     "metadata": {},
     "output_type": "execute_result"
    }
   ],
   "source": [
    "c = b[:,0]\n",
    "c"
   ]
  },
  {
   "cell_type": "code",
   "execution_count": 11,
   "id": "46add65c",
   "metadata": {},
   "outputs": [
    {
     "data": {
      "text/plain": [
       "array([26, 27,  8,  9, 18,  1])"
      ]
     },
     "execution_count": 11,
     "metadata": {},
     "output_type": "execute_result"
    }
   ],
   "source": [
    "c[0] = c[0]-1\n",
    "c"
   ]
  },
  {
   "cell_type": "code",
   "execution_count": 12,
   "id": "6aaaacb1",
   "metadata": {},
   "outputs": [
    {
     "data": {
      "text/plain": [
       "array([[26, 32,  4],\n",
       "       [27, 30,  1],\n",
       "       [ 8, 29, 20],\n",
       "       [ 9,  7, 17],\n",
       "       [18, 11, 32],\n",
       "       [ 1, 32, 21]])"
      ]
     },
     "execution_count": 12,
     "metadata": {},
     "output_type": "execute_result"
    }
   ],
   "source": [
    "b[:,0] = c\n",
    "b"
   ]
  },
  {
   "cell_type": "code",
   "execution_count": 14,
   "id": "90d2684b",
   "metadata": {},
   "outputs": [
    {
     "data": {
      "text/plain": [
       "3"
      ]
     },
     "execution_count": 14,
     "metadata": {},
     "output_type": "execute_result"
    }
   ],
   "source": [
    "a[4,:,:3] = b\n",
    "a.ndim"
   ]
  },
  {
   "cell_type": "code",
   "execution_count": null,
   "id": "acd811dc",
   "metadata": {},
   "outputs": [],
   "source": []
  }
 ],
 "metadata": {
  "kernelspec": {
   "display_name": "Python 3 (ipykernel)",
   "language": "python",
   "name": "python3"
  },
  "language_info": {
   "codemirror_mode": {
    "name": "ipython",
    "version": 3
   },
   "file_extension": ".py",
   "mimetype": "text/x-python",
   "name": "python",
   "nbconvert_exporter": "python",
   "pygments_lexer": "ipython3",
   "version": "3.9.12"
  }
 },
 "nbformat": 4,
 "nbformat_minor": 5
}
