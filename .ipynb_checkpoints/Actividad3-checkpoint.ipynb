{
 "cells": [
  {
   "cell_type": "code",
   "execution_count": 35,
   "id": "c715d346",
   "metadata": {},
   "outputs": [],
   "source": [
    "import numpy as np\n",
    "\n",
    "import pandas as pd\n",
    "\n",
    "from pandas import Series, DataFrame"
   ]
  },
  {
   "cell_type": "markdown",
   "id": "c7880ca7",
   "metadata": {},
   "source": [
    "# Primero creamos el inventario total"
   ]
  },
  {
   "cell_type": "code",
   "execution_count": 50,
   "id": "66355154",
   "metadata": {
    "scrolled": true
   },
   "outputs": [
    {
     "data": {
      "text/html": [
       "<div>\n",
       "<style scoped>\n",
       "    .dataframe tbody tr th:only-of-type {\n",
       "        vertical-align: middle;\n",
       "    }\n",
       "\n",
       "    .dataframe tbody tr th {\n",
       "        vertical-align: top;\n",
       "    }\n",
       "\n",
       "    .dataframe thead th {\n",
       "        text-align: right;\n",
       "    }\n",
       "</style>\n",
       "<table border=\"1\" class=\"dataframe\">\n",
       "  <thead>\n",
       "    <tr style=\"text-align: right;\">\n",
       "      <th></th>\n",
       "      <th>Sandero</th>\n",
       "      <th>Clio</th>\n",
       "      <th>Kwid</th>\n",
       "      <th>Logan</th>\n",
       "      <th>Duster</th>\n",
       "      <th>Koleos</th>\n",
       "    </tr>\n",
       "  </thead>\n",
       "  <tbody>\n",
       "    <tr>\n",
       "      <th>blanco</th>\n",
       "      <td>15</td>\n",
       "      <td>4</td>\n",
       "      <td>0</td>\n",
       "      <td>20</td>\n",
       "      <td>40</td>\n",
       "      <td>10</td>\n",
       "    </tr>\n",
       "    <tr>\n",
       "      <th>rojo</th>\n",
       "      <td>15</td>\n",
       "      <td>22</td>\n",
       "      <td>10</td>\n",
       "      <td>50</td>\n",
       "      <td>31</td>\n",
       "      <td>15</td>\n",
       "    </tr>\n",
       "    <tr>\n",
       "      <th>azul</th>\n",
       "      <td>4</td>\n",
       "      <td>0</td>\n",
       "      <td>12</td>\n",
       "      <td>12</td>\n",
       "      <td>20</td>\n",
       "      <td>0</td>\n",
       "    </tr>\n",
       "    <tr>\n",
       "      <th>negro</th>\n",
       "      <td>1</td>\n",
       "      <td>10</td>\n",
       "      <td>11</td>\n",
       "      <td>32</td>\n",
       "      <td>0</td>\n",
       "      <td>10</td>\n",
       "    </tr>\n",
       "    <tr>\n",
       "      <th>gris</th>\n",
       "      <td>0</td>\n",
       "      <td>13</td>\n",
       "      <td>8</td>\n",
       "      <td>10</td>\n",
       "      <td>0</td>\n",
       "      <td>12</td>\n",
       "    </tr>\n",
       "  </tbody>\n",
       "</table>\n",
       "</div>"
      ],
      "text/plain": [
       "        Sandero  Clio  Kwid  Logan  Duster  Koleos\n",
       "blanco       15     4     0     20      40      10\n",
       "rojo         15    22    10     50      31      15\n",
       "azul          4     0    12     12      20       0\n",
       "negro         1    10    11     32       0      10\n",
       "gris          0    13     8     10       0      12"
      ]
     },
     "execution_count": 50,
     "metadata": {},
     "output_type": "execute_result"
    }
   ],
   "source": [
    "dict = {'Sandero':[15,15,4,1,0],\n",
    "        'Clio':[4,22,0,10,13],\n",
    "        'Kwid':[0,10,12,11,8],\n",
    "        'Logan':[20,50,12,32,10],\n",
    "        'Duster':[40,31,20,0,0],\n",
    "        'Koleos':[10,15,0,10,12]}\n",
    "\n",
    "df = pd.DataFrame(dict,\n",
    "                 columns=['Sandero','Clio','Kwid','Logan','Duster','Koleos'],\n",
    "                 index=['blanco','rojo','azul','negro','gris'])\n",
    "df\n"
   ]
  },
  {
   "cell_type": "markdown",
   "id": "8962ed2b",
   "metadata": {},
   "source": [
    "## Luego filtramos las cantidades por *modelo*"
   ]
  },
  {
   "cell_type": "code",
   "execution_count": 37,
   "id": "0d513b40",
   "metadata": {
    "scrolled": true
   },
   "outputs": [
    {
     "data": {
      "text/plain": [
       "Sandero     35\n",
       "Clio        49\n",
       "Kwid        41\n",
       "Logan      124\n",
       "Duster      91\n",
       "Koleos      47\n",
       "dtype: int64"
      ]
     },
     "execution_count": 37,
     "metadata": {},
     "output_type": "execute_result"
    }
   ],
   "source": [
    "totales_por_modelo = df.sum(axis=0)\n",
    "totales_por_modelo"
   ]
  },
  {
   "cell_type": "markdown",
   "id": "1300da51",
   "metadata": {},
   "source": [
    "## Luego filtramos las cantidades por *color*"
   ]
  },
  {
   "cell_type": "code",
   "execution_count": 38,
   "id": "02b17615",
   "metadata": {},
   "outputs": [
    {
     "data": {
      "text/plain": [
       "blanco     89\n",
       "rojo      143\n",
       "azul       48\n",
       "negro      64\n",
       "gris       43\n",
       "dtype: int64"
      ]
     },
     "execution_count": 38,
     "metadata": {},
     "output_type": "execute_result"
    }
   ],
   "source": [
    "totales_por_color = df.sum(axis=1)\n",
    "totales_por_color"
   ]
  },
  {
   "cell_type": "markdown",
   "id": "59759419",
   "metadata": {},
   "source": [
    "### La cantidad total del stock"
   ]
  },
  {
   "cell_type": "code",
   "execution_count": 39,
   "id": "395ccc89",
   "metadata": {},
   "outputs": [
    {
     "data": {
      "text/plain": [
       "387"
      ]
     },
     "execution_count": 39,
     "metadata": {},
     "output_type": "execute_result"
    }
   ],
   "source": [
    "total_stock = totales_por_modelo.sum()\n",
    "total_stock"
   ]
  },
  {
   "cell_type": "markdown",
   "id": "a0dd4bdd",
   "metadata": {},
   "source": [
    "# A continuacion vemos lo que quedo luego de la reduccion de stock"
   ]
  },
  {
   "cell_type": "markdown",
   "id": "cd7cc5c7",
   "metadata": {},
   "source": [
    "### El nuevo stock nuevamente detallado por marca y color"
   ]
  },
  {
   "cell_type": "code",
   "execution_count": 48,
   "id": "bc44f512",
   "metadata": {},
   "outputs": [
    {
     "data": {
      "text/html": [
       "<div>\n",
       "<style scoped>\n",
       "    .dataframe tbody tr th:only-of-type {\n",
       "        vertical-align: middle;\n",
       "    }\n",
       "\n",
       "    .dataframe tbody tr th {\n",
       "        vertical-align: top;\n",
       "    }\n",
       "\n",
       "    .dataframe thead th {\n",
       "        text-align: right;\n",
       "    }\n",
       "</style>\n",
       "<table border=\"1\" class=\"dataframe\">\n",
       "  <thead>\n",
       "    <tr style=\"text-align: right;\">\n",
       "      <th></th>\n",
       "      <th>Sandero</th>\n",
       "      <th>Clio</th>\n",
       "      <th>Kwid</th>\n",
       "      <th>Logan</th>\n",
       "      <th>Duster</th>\n",
       "      <th>Koleos</th>\n",
       "    </tr>\n",
       "  </thead>\n",
       "  <tbody>\n",
       "    <tr>\n",
       "      <th>blanco</th>\n",
       "      <td>5</td>\n",
       "      <td>1</td>\n",
       "      <td>0</td>\n",
       "      <td>6</td>\n",
       "      <td>13</td>\n",
       "      <td>3</td>\n",
       "    </tr>\n",
       "    <tr>\n",
       "      <th>rojo</th>\n",
       "      <td>5</td>\n",
       "      <td>7</td>\n",
       "      <td>3</td>\n",
       "      <td>16</td>\n",
       "      <td>10</td>\n",
       "      <td>5</td>\n",
       "    </tr>\n",
       "    <tr>\n",
       "      <th>azul</th>\n",
       "      <td>1</td>\n",
       "      <td>0</td>\n",
       "      <td>4</td>\n",
       "      <td>4</td>\n",
       "      <td>6</td>\n",
       "      <td>0</td>\n",
       "    </tr>\n",
       "    <tr>\n",
       "      <th>negro</th>\n",
       "      <td>0</td>\n",
       "      <td>3</td>\n",
       "      <td>3</td>\n",
       "      <td>10</td>\n",
       "      <td>0</td>\n",
       "      <td>3</td>\n",
       "    </tr>\n",
       "    <tr>\n",
       "      <th>gris</th>\n",
       "      <td>0</td>\n",
       "      <td>4</td>\n",
       "      <td>2</td>\n",
       "      <td>3</td>\n",
       "      <td>0</td>\n",
       "      <td>4</td>\n",
       "    </tr>\n",
       "  </tbody>\n",
       "</table>\n",
       "</div>"
      ],
      "text/plain": [
       "        Sandero  Clio  Kwid  Logan  Duster  Koleos\n",
       "blanco        5     1     0      6      13       3\n",
       "rojo          5     7     3     16      10       5\n",
       "azul          1     0     4      4       6       0\n",
       "negro         0     3     3     10       0       3\n",
       "gris          0     4     2      3       0       4"
      ]
     },
     "execution_count": 48,
     "metadata": {},
     "output_type": "execute_result"
    }
   ],
   "source": [
    "df_reducido = df // 3\n",
    "df_reducido"
   ]
  },
  {
   "cell_type": "code",
   "execution_count": 53,
   "id": "b11db38b",
   "metadata": {},
   "outputs": [
    {
     "data": {
      "text/plain": [
       "Sandero    11\n",
       "Clio       15\n",
       "Kwid       12\n",
       "Logan      39\n",
       "Duster     29\n",
       "Koleos     15\n",
       "dtype: int64"
      ]
     },
     "execution_count": 53,
     "metadata": {},
     "output_type": "execute_result"
    }
   ],
   "source": [
    "total_por_modelo = df_reducido.sum(axis=0)\n",
    "total_por_modelo"
   ]
  },
  {
   "cell_type": "markdown",
   "id": "8746c557",
   "metadata": {},
   "source": [
    "### Nueva cantidad en stock"
   ]
  },
  {
   "cell_type": "code",
   "execution_count": 60,
   "id": "83149bcb",
   "metadata": {},
   "outputs": [
    {
     "data": {
      "text/plain": [
       "121"
      ]
     },
     "execution_count": 60,
     "metadata": {},
     "output_type": "execute_result"
    }
   ],
   "source": [
    "nuevo_stock = total_por_modelo.sum()\n",
    "nuevo_stock"
   ]
  },
  {
   "cell_type": "markdown",
   "id": "be6ed275",
   "metadata": {},
   "source": [
    "# Incorporacion de nuevos Dusters"
   ]
  },
  {
   "cell_type": "code",
   "execution_count": 59,
   "id": "cde45a89",
   "metadata": {},
   "outputs": [
    {
     "data": {
      "text/html": [
       "<div>\n",
       "<style scoped>\n",
       "    .dataframe tbody tr th:only-of-type {\n",
       "        vertical-align: middle;\n",
       "    }\n",
       "\n",
       "    .dataframe tbody tr th {\n",
       "        vertical-align: top;\n",
       "    }\n",
       "\n",
       "    .dataframe thead th {\n",
       "        text-align: right;\n",
       "    }\n",
       "</style>\n",
       "<table border=\"1\" class=\"dataframe\">\n",
       "  <thead>\n",
       "    <tr style=\"text-align: right;\">\n",
       "      <th></th>\n",
       "      <th>Sandero</th>\n",
       "      <th>Clio</th>\n",
       "      <th>Kwid</th>\n",
       "      <th>Logan</th>\n",
       "      <th>Duster</th>\n",
       "      <th>Koleos</th>\n",
       "    </tr>\n",
       "  </thead>\n",
       "  <tbody>\n",
       "    <tr>\n",
       "      <th>blanco</th>\n",
       "      <td>5</td>\n",
       "      <td>1</td>\n",
       "      <td>0</td>\n",
       "      <td>6</td>\n",
       "      <td>13</td>\n",
       "      <td>3</td>\n",
       "    </tr>\n",
       "    <tr>\n",
       "      <th>rojo</th>\n",
       "      <td>5</td>\n",
       "      <td>7</td>\n",
       "      <td>3</td>\n",
       "      <td>16</td>\n",
       "      <td>10</td>\n",
       "      <td>5</td>\n",
       "    </tr>\n",
       "    <tr>\n",
       "      <th>azul</th>\n",
       "      <td>1</td>\n",
       "      <td>0</td>\n",
       "      <td>4</td>\n",
       "      <td>4</td>\n",
       "      <td>6</td>\n",
       "      <td>0</td>\n",
       "    </tr>\n",
       "    <tr>\n",
       "      <th>negro</th>\n",
       "      <td>0</td>\n",
       "      <td>3</td>\n",
       "      <td>3</td>\n",
       "      <td>10</td>\n",
       "      <td>0</td>\n",
       "      <td>3</td>\n",
       "    </tr>\n",
       "    <tr>\n",
       "      <th>gris</th>\n",
       "      <td>0</td>\n",
       "      <td>4</td>\n",
       "      <td>2</td>\n",
       "      <td>3</td>\n",
       "      <td>25</td>\n",
       "      <td>4</td>\n",
       "    </tr>\n",
       "  </tbody>\n",
       "</table>\n",
       "</div>"
      ],
      "text/plain": [
       "        Sandero  Clio  Kwid  Logan  Duster  Koleos\n",
       "blanco        5     1     0      6      13       3\n",
       "rojo          5     7     3     16      10       5\n",
       "azul          1     0     4      4       6       0\n",
       "negro         0     3     3     10       0       3\n",
       "gris          0     4     2      3      25       4"
      ]
     },
     "execution_count": 59,
     "metadata": {},
     "output_type": "execute_result"
    }
   ],
   "source": [
    "df_reducido.loc['gris','Duster'] = 25\n",
    "df_reducido\n",
    "#De esta forma quedaría el nuevo inventario con esta incorporación"
   ]
  },
  {
   "cell_type": "markdown",
   "id": "ca2ad91f",
   "metadata": {},
   "source": [
    "### Ultima cantidad de stock"
   ]
  },
  {
   "cell_type": "code",
   "execution_count": 61,
   "id": "adfb8c47",
   "metadata": {},
   "outputs": [
    {
     "data": {
      "text/plain": [
       "146"
      ]
     },
     "execution_count": 61,
     "metadata": {},
     "output_type": "execute_result"
    }
   ],
   "source": [
    "stock_reciente = nuevo_stock + 25\n",
    "stock_reciente"
   ]
  },
  {
   "cell_type": "code",
   "execution_count": null,
   "id": "1c9d273d",
   "metadata": {},
   "outputs": [],
   "source": []
  }
 ],
 "metadata": {
  "kernelspec": {
   "display_name": "Python 3 (ipykernel)",
   "language": "python",
   "name": "python3"
  },
  "language_info": {
   "codemirror_mode": {
    "name": "ipython",
    "version": 3
   },
   "file_extension": ".py",
   "mimetype": "text/x-python",
   "name": "python",
   "nbconvert_exporter": "python",
   "pygments_lexer": "ipython3",
   "version": "3.9.12"
  }
 },
 "nbformat": 4,
 "nbformat_minor": 5
}
